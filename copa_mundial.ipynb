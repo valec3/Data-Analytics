{
  "nbformat": 4,
  "nbformat_minor": 0,
  "metadata": {
    "colab": {
      "provenance": [],
      "authorship_tag": "ABX9TyMPSReKNJymcFAyLR1/tCGc",
      "include_colab_link": true
    },
    "kernelspec": {
      "name": "python3",
      "display_name": "Python 3"
    },
    "language_info": {
      "name": "python"
    }
  },
  "cells": [
    {
      "cell_type": "markdown",
      "metadata": {
        "id": "view-in-github",
        "colab_type": "text"
      },
      "source": [
        "<a href=\"https://colab.research.google.com/github/valec3/Data-Analytics/blob/main/copa_mundial.ipynb\" target=\"_parent\"><img src=\"https://colab.research.google.com/assets/colab-badge.svg\" alt=\"Open In Colab\"/></a>"
      ]
    },
    {
      "cell_type": "code",
      "execution_count": null,
      "metadata": {
        "id": "hrC9I3-NYmNK"
      },
      "outputs": [],
      "source": [
        "import pandas as pd"
      ]
    },
    {
      "cell_type": "code",
      "source": [
        "tablas = pd.read_html(\"https://web.archive.org/web/20221115040351/https://en.wikipedia.org/wiki/2022_FIFA_World_Cup\")"
      ],
      "metadata": {
        "id": "HvTPdeqjYunL"
      },
      "execution_count": null,
      "outputs": []
    },
    {
      "cell_type": "code",
      "source": [
        "tablas[2] #grupo A -> MIS INDICES VARIAN EN 1 : I+1 XD"
      ],
      "metadata": {
        "colab": {
          "base_uri": "https://localhost:8080/",
          "height": 237
        },
        "id": "UOoFPMXbZHrz",
        "outputId": "166ca62c-2711-42d6-a963-1d2be174b7c9"
      },
      "execution_count": null,
      "outputs": [
        {
          "output_type": "execute_result",
          "data": {
            "text/plain": [
              "         Bidders   Votes                                    \n",
              "         Bidders Round 1     Round 2     Round 3     Round 4\n",
              "0          Qatar      11          10          11          14\n",
              "1  United States       3           5           6           8\n",
              "2    South Korea       4           5           5  Eliminated\n",
              "3          Japan       3           2  Eliminated  Eliminated\n",
              "4      Australia       1  Eliminated  Eliminated  Eliminated"
            ],
            "text/html": [
              "\n",
              "  <div id=\"df-e167e507-4402-4a5c-b19f-b910e3883016\">\n",
              "    <div class=\"colab-df-container\">\n",
              "      <div>\n",
              "<style scoped>\n",
              "    .dataframe tbody tr th:only-of-type {\n",
              "        vertical-align: middle;\n",
              "    }\n",
              "\n",
              "    .dataframe tbody tr th {\n",
              "        vertical-align: top;\n",
              "    }\n",
              "\n",
              "    .dataframe thead tr th {\n",
              "        text-align: left;\n",
              "    }\n",
              "</style>\n",
              "<table border=\"1\" class=\"dataframe\">\n",
              "  <thead>\n",
              "    <tr>\n",
              "      <th></th>\n",
              "      <th>Bidders</th>\n",
              "      <th colspan=\"4\" halign=\"left\">Votes</th>\n",
              "    </tr>\n",
              "    <tr>\n",
              "      <th></th>\n",
              "      <th>Bidders</th>\n",
              "      <th>Round 1</th>\n",
              "      <th>Round 2</th>\n",
              "      <th>Round 3</th>\n",
              "      <th>Round 4</th>\n",
              "    </tr>\n",
              "  </thead>\n",
              "  <tbody>\n",
              "    <tr>\n",
              "      <th>0</th>\n",
              "      <td>Qatar</td>\n",
              "      <td>11</td>\n",
              "      <td>10</td>\n",
              "      <td>11</td>\n",
              "      <td>14</td>\n",
              "    </tr>\n",
              "    <tr>\n",
              "      <th>1</th>\n",
              "      <td>United States</td>\n",
              "      <td>3</td>\n",
              "      <td>5</td>\n",
              "      <td>6</td>\n",
              "      <td>8</td>\n",
              "    </tr>\n",
              "    <tr>\n",
              "      <th>2</th>\n",
              "      <td>South Korea</td>\n",
              "      <td>4</td>\n",
              "      <td>5</td>\n",
              "      <td>5</td>\n",
              "      <td>Eliminated</td>\n",
              "    </tr>\n",
              "    <tr>\n",
              "      <th>3</th>\n",
              "      <td>Japan</td>\n",
              "      <td>3</td>\n",
              "      <td>2</td>\n",
              "      <td>Eliminated</td>\n",
              "      <td>Eliminated</td>\n",
              "    </tr>\n",
              "    <tr>\n",
              "      <th>4</th>\n",
              "      <td>Australia</td>\n",
              "      <td>1</td>\n",
              "      <td>Eliminated</td>\n",
              "      <td>Eliminated</td>\n",
              "      <td>Eliminated</td>\n",
              "    </tr>\n",
              "  </tbody>\n",
              "</table>\n",
              "</div>\n",
              "      <button class=\"colab-df-convert\" onclick=\"convertToInteractive('df-e167e507-4402-4a5c-b19f-b910e3883016')\"\n",
              "              title=\"Convert this dataframe to an interactive table.\"\n",
              "              style=\"display:none;\">\n",
              "        \n",
              "  <svg xmlns=\"http://www.w3.org/2000/svg\" height=\"24px\"viewBox=\"0 0 24 24\"\n",
              "       width=\"24px\">\n",
              "    <path d=\"M0 0h24v24H0V0z\" fill=\"none\"/>\n",
              "    <path d=\"M18.56 5.44l.94 2.06.94-2.06 2.06-.94-2.06-.94-.94-2.06-.94 2.06-2.06.94zm-11 1L8.5 8.5l.94-2.06 2.06-.94-2.06-.94L8.5 2.5l-.94 2.06-2.06.94zm10 10l.94 2.06.94-2.06 2.06-.94-2.06-.94-.94-2.06-.94 2.06-2.06.94z\"/><path d=\"M17.41 7.96l-1.37-1.37c-.4-.4-.92-.59-1.43-.59-.52 0-1.04.2-1.43.59L10.3 9.45l-7.72 7.72c-.78.78-.78 2.05 0 2.83L4 21.41c.39.39.9.59 1.41.59.51 0 1.02-.2 1.41-.59l7.78-7.78 2.81-2.81c.8-.78.8-2.07 0-2.86zM5.41 20L4 18.59l7.72-7.72 1.47 1.35L5.41 20z\"/>\n",
              "  </svg>\n",
              "      </button>\n",
              "      \n",
              "  <style>\n",
              "    .colab-df-container {\n",
              "      display:flex;\n",
              "      flex-wrap:wrap;\n",
              "      gap: 12px;\n",
              "    }\n",
              "\n",
              "    .colab-df-convert {\n",
              "      background-color: #E8F0FE;\n",
              "      border: none;\n",
              "      border-radius: 50%;\n",
              "      cursor: pointer;\n",
              "      display: none;\n",
              "      fill: #1967D2;\n",
              "      height: 32px;\n",
              "      padding: 0 0 0 0;\n",
              "      width: 32px;\n",
              "    }\n",
              "\n",
              "    .colab-df-convert:hover {\n",
              "      background-color: #E2EBFA;\n",
              "      box-shadow: 0px 1px 2px rgba(60, 64, 67, 0.3), 0px 1px 3px 1px rgba(60, 64, 67, 0.15);\n",
              "      fill: #174EA6;\n",
              "    }\n",
              "\n",
              "    [theme=dark] .colab-df-convert {\n",
              "      background-color: #3B4455;\n",
              "      fill: #D2E3FC;\n",
              "    }\n",
              "\n",
              "    [theme=dark] .colab-df-convert:hover {\n",
              "      background-color: #434B5C;\n",
              "      box-shadow: 0px 1px 3px 1px rgba(0, 0, 0, 0.15);\n",
              "      filter: drop-shadow(0px 1px 2px rgba(0, 0, 0, 0.3));\n",
              "      fill: #FFFFFF;\n",
              "    }\n",
              "  </style>\n",
              "\n",
              "      <script>\n",
              "        const buttonEl =\n",
              "          document.querySelector('#df-e167e507-4402-4a5c-b19f-b910e3883016 button.colab-df-convert');\n",
              "        buttonEl.style.display =\n",
              "          google.colab.kernel.accessAllowed ? 'block' : 'none';\n",
              "\n",
              "        async function convertToInteractive(key) {\n",
              "          const element = document.querySelector('#df-e167e507-4402-4a5c-b19f-b910e3883016');\n",
              "          const dataTable =\n",
              "            await google.colab.kernel.invokeFunction('convertToInteractive',\n",
              "                                                     [key], {});\n",
              "          if (!dataTable) return;\n",
              "\n",
              "          const docLinkHtml = 'Like what you see? Visit the ' +\n",
              "            '<a target=\"_blank\" href=https://colab.research.google.com/notebooks/data_table.ipynb>data table notebook</a>'\n",
              "            + ' to learn more about interactive tables.';\n",
              "          element.innerHTML = '';\n",
              "          dataTable['output_type'] = 'display_data';\n",
              "          await google.colab.output.renderOutput(dataTable, element);\n",
              "          const docLink = document.createElement('div');\n",
              "          docLink.innerHTML = docLinkHtml;\n",
              "          element.appendChild(docLink);\n",
              "        }\n",
              "      </script>\n",
              "    </div>\n",
              "  </div>\n",
              "  "
            ]
          },
          "metadata": {},
          "execution_count": 25
        }
      ]
    },
    {
      "cell_type": "code",
      "source": [
        "for i in range(12,68,7):\n",
        "    df = tablas[i]\n",
        "    df.rename(columns={df.columns[1]:\"Team\"},inplace=True)\n",
        "    df.pop(\"Qualification\")\n",
        "    print(df)"
      ],
      "metadata": {
        "colab": {
          "base_uri": "https://localhost:8080/"
        },
        "id": "rmH6LN5KZrcQ",
        "outputId": "9938f33f-a344-408e-dfd5-7eb4b740688e"
      },
      "execution_count": null,
      "outputs": [
        {
          "output_type": "stream",
          "name": "stdout",
          "text": [
            "   Pos         Team  Pld  W  D  L  GF  GA  GD  Pts\n",
            "0    1    Qatar (H)    0  0  0  0   0   0   0    0\n",
            "1    2      Ecuador    0  0  0  0   0   0   0    0\n",
            "2    3      Senegal    0  0  0  0   0   0   0    0\n",
            "3    4  Netherlands    0  0  0  0   0   0   0    0\n",
            "   Pos           Team  Pld  W  D  L  GF  GA  GD  Pts\n",
            "0    1        England    0  0  0  0   0   0   0    0\n",
            "1    2           Iran    0  0  0  0   0   0   0    0\n",
            "2    3  United States    0  0  0  0   0   0   0    0\n",
            "3    4          Wales    0  0  0  0   0   0   0    0\n",
            "   Pos          Team  Pld  W  D  L  GF  GA  GD  Pts\n",
            "0    1     Argentina    0  0  0  0   0   0   0    0\n",
            "1    2  Saudi Arabia    0  0  0  0   0   0   0    0\n",
            "2    3        Mexico    0  0  0  0   0   0   0    0\n",
            "3    4        Poland    0  0  0  0   0   0   0    0\n",
            "   Pos       Team  Pld  W  D  L  GF  GA  GD  Pts\n",
            "0    1     France    0  0  0  0   0   0   0    0\n",
            "1    2  Australia    0  0  0  0   0   0   0    0\n",
            "2    3    Denmark    0  0  0  0   0   0   0    0\n",
            "3    4    Tunisia    0  0  0  0   0   0   0    0\n",
            "   Pos        Team  Pld  W  D  L  GF  GA  GD  Pts\n",
            "0    1       Spain    0  0  0  0   0   0   0    0\n",
            "1    2  Costa Rica    0  0  0  0   0   0   0    0\n",
            "2    3     Germany    0  0  0  0   0   0   0    0\n",
            "3    4       Japan    0  0  0  0   0   0   0    0\n",
            "   Pos     Team  Pld  W  D  L  GF  GA  GD  Pts\n",
            "0    1  Belgium    0  0  0  0   0   0   0    0\n",
            "1    2   Canada    0  0  0  0   0   0   0    0\n",
            "2    3  Morocco    0  0  0  0   0   0   0    0\n",
            "3    4  Croatia    0  0  0  0   0   0   0    0\n",
            "   Pos         Team  Pld  W  D  L  GF  GA  GD  Pts\n",
            "0    1       Brazil    0  0  0  0   0   0   0    0\n",
            "1    2       Serbia    0  0  0  0   0   0   0    0\n",
            "2    3  Switzerland    0  0  0  0   0   0   0    0\n",
            "3    4     Cameroon    0  0  0  0   0   0   0    0\n",
            "   Pos         Team  Pld  W  D  L  GF  GA  GD  Pts\n",
            "0    1     Portugal    0  0  0  0   0   0   0    0\n",
            "1    2        Ghana    0  0  0  0   0   0   0    0\n",
            "2    3      Uruguay    0  0  0  0   0   0   0    0\n",
            "3    4  South Korea    0  0  0  0   0   0   0    0\n"
          ]
        }
      ]
    },
    {
      "cell_type": "code",
      "source": [],
      "metadata": {
        "id": "6laoQpecbPLU"
      },
      "execution_count": null,
      "outputs": []
    },
    {
      "cell_type": "code",
      "source": [],
      "metadata": {
        "id": "c_sWXiYcbT7g"
      },
      "execution_count": null,
      "outputs": []
    }
  ]
}